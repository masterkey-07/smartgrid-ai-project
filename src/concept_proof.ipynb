{
 "cells": [
  {
   "cell_type": "markdown",
   "metadata": {},
   "source": [
    "# Predição do Estado de uma Smart Grid"
   ]
  },
  {
   "cell_type": "markdown",
   "metadata": {},
   "source": [
    "## Bibliotecas"
   ]
  },
  {
   "cell_type": "code",
   "execution_count": 146,
   "metadata": {},
   "outputs": [],
   "source": [
    "# Biblioteca para coletar os dados da rede simulada\n",
    "from ucimlrepo import fetch_ucirepo \n",
    "\n",
    "# Bibliotecas para análise e manipulação dos dados\n",
    "import numpy as np\n",
    "import pandas as pd\n",
    "\n",
    "# Charts and Visualization\n",
    "from matplotlib import pyplot as plt\n",
    "\n",
    "# Machine Learning Libraries\n",
    "import xgboost\n",
    "from sklearn import linear_model\n",
    "from sklearn.svm import SVR\n",
    "from sklearn.model_selection import KFold\n",
    "from sklearn.tree import DecisionTreeRegressor\n",
    "from sklearn.metrics import mean_squared_error, mean_absolute_error, r2_score\n",
    "from sklearn.ensemble import RandomForestRegressor\n"
   ]
  },
  {
   "cell_type": "markdown",
   "metadata": {},
   "source": [
    "# Domínio da Aplicação\n",
    "\n",
    "## Exploração da Base de Dados\n",
    "\n",
    "### Coletando os [dados simulados de estabilidade de uma rede elétrica](https://archive.ics.uci.edu/dataset/471/electrical+grid+stability+simulated+data)"
   ]
  },
  {
   "cell_type": "code",
   "execution_count": 147,
   "metadata": {},
   "outputs": [],
   "source": [
    "electrical_grid_stability_simulated_data = fetch_ucirepo(id=471).data\n",
    "\n",
    "features = electrical_grid_stability_simulated_data.features \n",
    "targets = electrical_grid_stability_simulated_data.targets\n",
    "\n",
    "data = pd.merge(features, targets, left_index=True, right_index=True, how='outer')"
   ]
  },
  {
   "cell_type": "markdown",
   "metadata": {},
   "source": [
    "### Explicando os Atributos\n",
    "\n",
    "- tau[x]: Tempo de reação do participante (valor real no intervalo [0.5, 10] segundos). \n",
    "    - tau1 - o valor para o produtor de eletricidade;\n",
    "- p[x]: Potência nominal consumida (negativa) ou produzida (positiva) (valor real). \n",
    "    - Para consumidores, no intervalo [-0.5, -2] segundos^-2;\n",
    "    - p1 = abs(p2 + p3 + p4);\n",
    "- g[x]: Coeficiente (gamma) proporcional à elasticidade de preço (valor real no intervalo [0.05, 1] segundos^-1). \n",
    "    - g1 - o valor para o produtor de eletricidade;\n",
    "- stab: A parte real máxima da raiz da equação característica (se positiva - o sistema é linearmente instável) (valor real).\n",
    "- stabf: A classificação de estabilidade do sistema (categórica: estável/instável).\n"
   ]
  },
  {
   "cell_type": "markdown",
   "metadata": {},
   "source": [
    "### Visualização os Dados"
   ]
  },
  {
   "cell_type": "code",
   "execution_count": 148,
   "metadata": {},
   "outputs": [
    {
     "data": {
      "text/html": [
       "<div>\n",
       "<style scoped>\n",
       "    .dataframe tbody tr th:only-of-type {\n",
       "        vertical-align: middle;\n",
       "    }\n",
       "\n",
       "    .dataframe tbody tr th {\n",
       "        vertical-align: top;\n",
       "    }\n",
       "\n",
       "    .dataframe thead th {\n",
       "        text-align: right;\n",
       "    }\n",
       "</style>\n",
       "<table border=\"1\" class=\"dataframe\">\n",
       "  <thead>\n",
       "    <tr style=\"text-align: right;\">\n",
       "      <th></th>\n",
       "      <th>tau1</th>\n",
       "      <th>tau2</th>\n",
       "      <th>tau3</th>\n",
       "      <th>tau4</th>\n",
       "      <th>p1</th>\n",
       "      <th>p2</th>\n",
       "      <th>p3</th>\n",
       "      <th>p4</th>\n",
       "      <th>g1</th>\n",
       "      <th>g2</th>\n",
       "      <th>g3</th>\n",
       "      <th>g4</th>\n",
       "      <th>stab</th>\n",
       "      <th>stabf</th>\n",
       "    </tr>\n",
       "  </thead>\n",
       "  <tbody>\n",
       "    <tr>\n",
       "      <th>0</th>\n",
       "      <td>2.959060</td>\n",
       "      <td>3.079885</td>\n",
       "      <td>8.381025</td>\n",
       "      <td>9.780754</td>\n",
       "      <td>3.763085</td>\n",
       "      <td>-0.782604</td>\n",
       "      <td>-1.257395</td>\n",
       "      <td>-1.723086</td>\n",
       "      <td>0.650456</td>\n",
       "      <td>0.859578</td>\n",
       "      <td>0.887445</td>\n",
       "      <td>0.958034</td>\n",
       "      <td>0.055347</td>\n",
       "      <td>unstable</td>\n",
       "    </tr>\n",
       "    <tr>\n",
       "      <th>1</th>\n",
       "      <td>9.304097</td>\n",
       "      <td>4.902524</td>\n",
       "      <td>3.047541</td>\n",
       "      <td>1.369357</td>\n",
       "      <td>5.067812</td>\n",
       "      <td>-1.940058</td>\n",
       "      <td>-1.872742</td>\n",
       "      <td>-1.255012</td>\n",
       "      <td>0.413441</td>\n",
       "      <td>0.862414</td>\n",
       "      <td>0.562139</td>\n",
       "      <td>0.781760</td>\n",
       "      <td>-0.005957</td>\n",
       "      <td>stable</td>\n",
       "    </tr>\n",
       "    <tr>\n",
       "      <th>2</th>\n",
       "      <td>8.971707</td>\n",
       "      <td>8.848428</td>\n",
       "      <td>3.046479</td>\n",
       "      <td>1.214518</td>\n",
       "      <td>3.405158</td>\n",
       "      <td>-1.207456</td>\n",
       "      <td>-1.277210</td>\n",
       "      <td>-0.920492</td>\n",
       "      <td>0.163041</td>\n",
       "      <td>0.766689</td>\n",
       "      <td>0.839444</td>\n",
       "      <td>0.109853</td>\n",
       "      <td>0.003471</td>\n",
       "      <td>unstable</td>\n",
       "    </tr>\n",
       "    <tr>\n",
       "      <th>3</th>\n",
       "      <td>0.716415</td>\n",
       "      <td>7.669600</td>\n",
       "      <td>4.486641</td>\n",
       "      <td>2.340563</td>\n",
       "      <td>3.963791</td>\n",
       "      <td>-1.027473</td>\n",
       "      <td>-1.938944</td>\n",
       "      <td>-0.997374</td>\n",
       "      <td>0.446209</td>\n",
       "      <td>0.976744</td>\n",
       "      <td>0.929381</td>\n",
       "      <td>0.362718</td>\n",
       "      <td>0.028871</td>\n",
       "      <td>unstable</td>\n",
       "    </tr>\n",
       "    <tr>\n",
       "      <th>4</th>\n",
       "      <td>3.134112</td>\n",
       "      <td>7.608772</td>\n",
       "      <td>4.943759</td>\n",
       "      <td>9.857573</td>\n",
       "      <td>3.525811</td>\n",
       "      <td>-1.125531</td>\n",
       "      <td>-1.845975</td>\n",
       "      <td>-0.554305</td>\n",
       "      <td>0.797110</td>\n",
       "      <td>0.455450</td>\n",
       "      <td>0.656947</td>\n",
       "      <td>0.820923</td>\n",
       "      <td>0.049860</td>\n",
       "      <td>unstable</td>\n",
       "    </tr>\n",
       "  </tbody>\n",
       "</table>\n",
       "</div>"
      ],
      "text/plain": [
       "       tau1      tau2      tau3      tau4        p1        p2        p3  \\\n",
       "0  2.959060  3.079885  8.381025  9.780754  3.763085 -0.782604 -1.257395   \n",
       "1  9.304097  4.902524  3.047541  1.369357  5.067812 -1.940058 -1.872742   \n",
       "2  8.971707  8.848428  3.046479  1.214518  3.405158 -1.207456 -1.277210   \n",
       "3  0.716415  7.669600  4.486641  2.340563  3.963791 -1.027473 -1.938944   \n",
       "4  3.134112  7.608772  4.943759  9.857573  3.525811 -1.125531 -1.845975   \n",
       "\n",
       "         p4        g1        g2        g3        g4      stab     stabf  \n",
       "0 -1.723086  0.650456  0.859578  0.887445  0.958034  0.055347  unstable  \n",
       "1 -1.255012  0.413441  0.862414  0.562139  0.781760 -0.005957    stable  \n",
       "2 -0.920492  0.163041  0.766689  0.839444  0.109853  0.003471  unstable  \n",
       "3 -0.997374  0.446209  0.976744  0.929381  0.362718  0.028871  unstable  \n",
       "4 -0.554305  0.797110  0.455450  0.656947  0.820923  0.049860  unstable  "
      ]
     },
     "execution_count": 148,
     "metadata": {},
     "output_type": "execute_result"
    }
   ],
   "source": [
    "data.head()"
   ]
  },
  {
   "cell_type": "markdown",
   "metadata": {},
   "source": [
    "# Pré-Processamento dos Dados\n",
    "\n",
    "### Eliminação do dado discreto, `stabf`\n",
    "\n",
    "Com o objetivo de prever o próximo estado da rede, a partir do valor contínuo `stab`, temos que eliminar o valor `stabf` já que depende de `stab`."
   ]
  },
  {
   "cell_type": "code",
   "execution_count": 149,
   "metadata": {},
   "outputs": [],
   "source": [
    "data.drop(columns=['stabf'], inplace=True)"
   ]
  },
  {
   "cell_type": "markdown",
   "metadata": {},
   "source": [
    "### Criação de Dados\n",
    "\n",
    "Criar mais dados a partir das médias, para verificar novas correlações"
   ]
  },
  {
   "cell_type": "code",
   "execution_count": 150,
   "metadata": {},
   "outputs": [],
   "source": [
    "# data['p_std'] = (data['p1'] + data['p2'] + data['p3'] + data['p4']) / 4\n",
    "# data['g_std'] = (data['g1'] + data['g2'] + data['g3'] + data['g4']) / 4"
   ]
  },
  {
   "cell_type": "markdown",
   "metadata": {},
   "source": [
    "### Análise das Correlações"
   ]
  },
  {
   "cell_type": "code",
   "execution_count": 151,
   "metadata": {},
   "outputs": [
    {
     "name": "stdout",
     "output_type": "stream",
     "text": [
      "Maiores Correlações\n",
      "    first_column second_column  correlation\n",
      "142           g3          stab     0.308235\n",
      "129           g2          stab     0.293601\n",
      "25          tau2          stab     0.290975\n",
      "116           g1          stab     0.282774\n",
      "38          tau3          stab     0.280700\n",
      "155           g4          stab     0.279214\n",
      "51          tau4          stab     0.278576\n",
      "12          tau1          stab     0.275761\n",
      "4           tau1            p1     0.027183\n",
      "76            p2            g4     0.019817\n",
      "\n",
      "\n",
      "Menores Correlações\n",
      "    first_column second_column  correlation\n",
      "58            p1            p3    -0.584554\n",
      "59            p1            p4    -0.579239\n",
      "57            p1            p2    -0.573157\n",
      "103           p4          stab    -0.020786\n",
      "74            p2            g2    -0.018032\n",
      "33          tau3            p4    -0.017531\n",
      "3           tau1          tau4    -0.017265\n",
      "6           tau1            p3    -0.015924\n",
      "7           tau1            p4    -0.015807\n",
      "5           tau1            p2    -0.015485\n"
     ]
    }
   ],
   "source": [
    "correlation_matrix = data.corr()\n",
    "\n",
    "correlation_pairs = correlation_matrix.unstack().reset_index()\n",
    "correlation_pairs.columns = ['first_column', 'second_column', 'correlation']\n",
    "\n",
    "# Remover duplicatas e auto-correlacoes\n",
    "correlation_pairs = correlation_pairs[correlation_pairs['first_column'] != correlation_pairs['second_column']]\n",
    "correlation_pairs = correlation_pairs.drop_duplicates(subset=['correlation'])\n",
    "\n",
    "# Ordenar pelo valor absoluto da correlação\n",
    "corr_max = correlation_pairs.sort_values(by='correlation', ascending=False)\n",
    "corr_min = correlation_pairs.sort_values(by='correlation')\n",
    "\n",
    "# Selecionar os maiores valores de correlação\n",
    "print(\"Maiores Correlações\")\n",
    "print(corr_max.head(10))\n",
    "print('\\n')\n",
    "print(\"Menores Correlações\")\n",
    "print(corr_min.head(10))"
   ]
  },
  {
   "cell_type": "markdown",
   "metadata": {},
   "source": [
    "## Limpeza os dados"
   ]
  },
  {
   "cell_type": "markdown",
   "metadata": {},
   "source": [
    "Temos algumas providencias a serem tomadas antes de excluir ou tomar qualquer outra atitude para correlações baixas\n",
    "\n",
    "Com os dados acima temos que os g tem grande impacto no stab e o stab tem muito impacto no stabf que é o objetivo final\n",
    "Portanto o mais importante agora é ver o que fazer com os p"
   ]
  },
  {
   "cell_type": "code",
   "execution_count": 152,
   "metadata": {},
   "outputs": [],
   "source": [
    "data.drop(columns=['p1', 'p2', 'p3', 'p4'], inplace=True)"
   ]
  },
  {
   "cell_type": "markdown",
   "metadata": {},
   "source": [
    "# Reconhecimento de Padrões e Aprendizados\n",
    "\n",
    "## Definição de Métodos e Classes de Apoio"
   ]
  },
  {
   "cell_type": "code",
   "execution_count": 153,
   "metadata": {},
   "outputs": [],
   "source": [
    "def create_error_structure():\n",
    "    return {\n",
    "        \"mse\": [],\n",
    "        \"mae\": [],\n",
    "        \"mape\": [],\n",
    "        \"r2\": []\n",
    "    }\n",
    "\n",
    "class Fitter:\n",
    "    def __init__(self, x_train, y_train, x_test, y_test) -> None:\n",
    "        self.__x_train = x_train\n",
    "        self.__y_train = y_train\n",
    "        self.__x_test = x_test\n",
    "        self.__y_test = y_test\n",
    "\n",
    "    def fit_model_and_measure(self, model, data):\n",
    "        model.fit(self.__x_train, self.__y_train)\n",
    "        \n",
    "        pred = model.predict(self.__x_test)\n",
    "\n",
    "        data['mse'].append(mean_squared_error(self.__y_test, pred))\n",
    "        data['mape'].append(np.mean(np.abs((self.__y_test - pred) / self.__y_test)) * 100)\n",
    "        data['mae'].append(mean_absolute_error(self.__y_test, pred))\n",
    "        data['r2'].append(r2_score(self.__y_test, pred))  # Adicionando a métrica r2\n"
   ]
  },
  {
   "cell_type": "markdown",
   "metadata": {},
   "source": [
    "## Treinamento e Validação dos Modelos"
   ]
  },
  {
   "cell_type": "code",
   "execution_count": 154,
   "metadata": {},
   "outputs": [],
   "source": [
    "# Estruturas de erros para cada modelo\n",
    "liner_regressor_data = create_error_structure()\n",
    "tree_regressor_data = create_error_structure()\n",
    "xgboost_regressor_data = create_error_structure()\n",
    "svr_data = create_error_structure()\n",
    "random_forest_data = create_error_structure()\n",
    "\n",
    "# Configuração do KFold\n",
    "five_folds = KFold(n_splits=5, random_state=0, shuffle=True)\n",
    "\n",
    "# Índice da coluna de target\n",
    "STAB_COLUMN_INDEX = list(data.columns).index('stab')\n",
    "\n",
    "# Loop para treinar e medir os modelos\n",
    "for train_index, test_index in five_folds.split(data):\n",
    "    y_train = data.values[train_index][:, STAB_COLUMN_INDEX]\n",
    "    x_train = data.values[train_index]\n",
    "    x_train = np.delete(x_train, STAB_COLUMN_INDEX, 1)\n",
    "\n",
    "    y_test = data.values[test_index][:, STAB_COLUMN_INDEX]\n",
    "    x_test = data.values[test_index]\n",
    "    x_test = np.delete(x_test, STAB_COLUMN_INDEX, 1)\n",
    "\n",
    "    fitter = Fitter(x_train=x_train, y_train=y_train, x_test=x_test, y_test=y_test)\n",
    "    \n",
    "    lasso = linear_model.Lasso(alpha=0.1)\n",
    "    fitter.fit_model_and_measure(lasso, liner_regressor_data)\n",
    "\n",
    "    tree = DecisionTreeRegressor(max_depth=5, splitter='random', min_samples_leaf=5)\n",
    "    fitter.fit_model_and_measure(tree, tree_regressor_data)\n",
    "\n",
    "    xgb_regressor = xgboost.sklearn.XGBRegressor()\n",
    "    fitter.fit_model_and_measure(xgb_regressor, xgboost_regressor_data)\n",
    "\n",
    "    svr = SVR()\n",
    "    fitter.fit_model_and_measure(svr, svr_data)\n",
    "\n",
    "    random_forest = RandomForestRegressor(n_estimators=100, random_state=0)\n",
    "    fitter.fit_model_and_measure(random_forest, random_forest_data)"
   ]
  },
  {
   "cell_type": "markdown",
   "metadata": {},
   "source": [
    "# Pós-Processamento e Conclusão\n",
    "\n",
    "## Definindo funções de apoio"
   ]
  },
  {
   "cell_type": "code",
   "execution_count": 155,
   "metadata": {},
   "outputs": [],
   "source": [
    "def create_metrics(error_structure):\n",
    "    metrics = {\n",
    "        'MSE': error_structure['mse'], \n",
    "        'MAE': error_structure['mae'], \n",
    "        'MAPE': error_structure['mape'],\n",
    "        'R2': error_structure['r2']  # Adicionando a métrica r2\n",
    "    }\n",
    "\n",
    "    print(metrics)\n",
    "\n",
    "    mean_std = {metric: (np.mean(scores), np.std(scores)) for metric, scores in metrics.items()}\n",
    "\n",
    "    return mean_std"
   ]
  },
  {
   "cell_type": "code",
   "execution_count": 156,
   "metadata": {},
   "outputs": [
    {
     "name": "stdout",
     "output_type": "stream",
     "text": [
      "{'MSE': [np.float64(0.001376129491866354), np.float64(0.0014067259016848075), np.float64(0.0013803387067353183), np.float64(0.0012851124010548512), np.float64(0.0013674506030640176)], 'MAE': [np.float64(0.0314525400415256), np.float64(0.03198506877534543), np.float64(0.03132942398311239), np.float64(0.030269516710787623), np.float64(0.03136529555890624)], 'MAPE': [np.float64(3266.1563113743773), np.float64(182.71237185576038), np.float64(240.14662651547698), np.float64(202.51763363497966), np.float64(766.0148305113072)], 'R2': [-0.0001677711687968486, -0.0012456711912938179, -0.0006960918543277295, -6.639318007373163e-06, -0.0006137898482021509]}\n",
      "{'MSE': [np.float64(0.0008346379354519874), np.float64(0.000797486999866625), np.float64(0.0008758765040398313), np.float64(0.0007409879685367715), np.float64(0.0007845469717341478)], 'MAE': [np.float64(0.023534945732249474), np.float64(0.022946125462153254), np.float64(0.02445269972233219), np.float64(0.02206536148106277), np.float64(0.022639659231917884)], 'MAPE': [np.float64(5356.441055798804), np.float64(186.87800805324855), np.float64(271.4143508542999), np.float64(194.05403535707805), np.float64(603.5278738678986)], 'R2': [0.39338705509335037, 0.43238380306251123, 0.3650209254707527, 0.42340227393081764, 0.42591818897016154]}\n",
      "{'MSE': [np.float64(8.002801373007601e-05), np.float64(8.063347465905299e-05), np.float64(7.728521224236636e-05), np.float64(8.271225083725405e-05), np.float64(8.584092104731187e-05)], 'MAE': [np.float64(0.006752498622550894), np.float64(0.006883627250635581), np.float64(0.006657218869608286), np.float64(0.006770163888376546), np.float64(0.006952590661909024)], 'MAPE': [np.float64(1062.6886836163778), np.float64(62.80498513461157), np.float64(107.22638235075956), np.float64(79.74235826086206), np.float64(321.6233935743294)], 'R2': [0.9418358224305469, 0.9426086365803059, 0.9439709909809129, 0.9356376921409382, 0.9371870478240669]}\n",
      "{'MSE': [np.float64(0.001379115679423986), np.float64(0.0014110647409104687), np.float64(0.0013846362545989481), np.float64(0.0012873035702908311), np.float64(0.0013674089333427827)], 'MAE': [np.float64(0.03150686863028327), np.float64(0.032059842229761465), np.float64(0.031341918157349755), np.float64(0.030315526808592622), np.float64(0.03142744552611794)], 'MAPE': [np.float64(2998.2908689892924), np.float64(174.89996824337217), np.float64(253.92843310368335), np.float64(191.08287736137623), np.float64(687.8520691083546)], 'R2': [-0.002338125464276697, -0.0043338662600596045, -0.003811660033867126, -0.0017116915625041695, -0.0005832985839522298]}\n",
      "{'MSE': [np.float64(0.00012163280587111725), np.float64(0.00012926463358268743), np.float64(0.00012827819465266842), np.float64(0.00012664152251025236), np.float64(0.00013652576716897464)], 'MAE': [np.float64(0.008429326740872916), np.float64(0.008783246093653906), np.float64(0.0086941635408044), np.float64(0.008693637378188094), np.float64(0.008851949609380861)], 'MAPE': [np.float64(145.33154050261388), np.float64(72.679372772544), np.float64(123.36844015911214), np.float64(102.87261967056465), np.float64(591.7961315452661)], 'R2': [0.9115975545410832, 0.9079951149987471, 0.9070029062919926, 0.9014542516128222, 0.9000990858515965]}\n"
     ]
    },
    {
     "data": {
      "image/png": "[encoded data removed]",
      "text/plain": [
       "<Figure size 1000x600 with 1 Axes>"
      ]
     },
     "metadata": {},
     "output_type": "display_data"
    },
    {
     "data": {
      "image/png": "[encoded data removed]",
      "text/plain": [
       "<Figure size 1000x600 with 1 Axes>"
      ]
     },
     "metadata": {},
     "output_type": "display_data"
    },
    {
     "data": {
      "image/png": "[encoded data removed]",
      "text/plain": [
       "<Figure size 1000x600 with 1 Axes>"
      ]
     },
     "metadata": {},
     "output_type": "display_data"
    },
    {
     "name": "stdout",
     "output_type": "stream",
     "text": [
      "\n",
      "Decision Tree Regressor Metrics:\n",
      "Mean MSE: 0.0008\n",
      "Mean MAE: 0.0231\n",
      "Mean MAPE: 1322.4631\n",
      "Mean R2: 0.4080\n",
      "\n",
      "Linear Regression Metrics:\n",
      "Mean MSE: 0.0014\n",
      "Mean MAE: 0.0313\n",
      "Mean MAPE: 931.5096\n",
      "Mean R2: -0.0005\n",
      "\n",
      "XGBoost Regressor Metrics:\n",
      "Mean MSE: 0.0001\n",
      "Mean MAE: 0.0068\n",
      "Mean MAPE: 326.8172\n",
      "Mean R2: 0.9402\n",
      "\n",
      "SVR Metrics:\n",
      "Mean MSE: 0.0014\n",
      "Mean MAE: 0.0313\n",
      "Mean MAPE: 861.2108\n",
      "Mean R2: -0.0026\n",
      "\n",
      "Random Forest Regressor Metrics:\n",
      "Mean MSE: 0.0001\n",
      "Mean MAE: 0.0087\n",
      "Mean MAPE: 207.2096\n",
      "Mean R2: 0.9056\n"
     ]
    }
   ],
   "source": [
    "# Regressão Linear\n",
    "\n",
    "linear_mean_std = create_metrics(liner_regressor_data)\n",
    "tree_mean_std = create_metrics(tree_regressor_data)\n",
    "xgboost_mean_std = create_metrics(xgboost_regressor_data)\n",
    "svr_mean_std = create_metrics(svr_data)\n",
    "random_forest_mean_std = create_metrics(random_forest_data)\n",
    "\n",
    "# Função para plotar os gráficos\n",
    "def plot_metrics(metrics_labels, mean_stds, title):\n",
    "    width = 0.15\n",
    "    x = np.arange(len(metrics_labels))\n",
    "\n",
    "    fig, ax = plt.subplots(figsize=(10, 6))\n",
    "\n",
    "    rects1 = ax.bar(x - 2*width, [mean_stds[0][metric][0] for metric in metrics_labels], width, label='Regressão Linear', yerr=[mean_stds[0][metric][1] for metric in metrics_labels])\n",
    "    rects2 = ax.bar(x - width, [mean_stds[1][metric][0] for metric in metrics_labels], width, label='Árvore de Decisão', yerr=[mean_stds[1][metric][1] for metric in metrics_labels])\n",
    "    rects3 = ax.bar(x, [mean_stds[2][metric][0] for metric in metrics_labels], width, label='XGBoost', yerr=[mean_stds[2][metric][1] for metric in metrics_labels])\n",
    "    rects4 = ax.bar(x + width, [mean_stds[3][metric][0] for metric in metrics_labels], width, label='SVR', yerr=[mean_stds[3][metric][1] for metric in metrics_labels])\n",
    "    rects5 = ax.bar(x + 2*width, [mean_stds[4][metric][0] for metric in metrics_labels], width, label='Random Forest', yerr=[mean_stds[4][metric][1] for metric in metrics_labels])\n",
    "\n",
    "    ax.set_ylabel('Scores')\n",
    "    ax.set_title(title)\n",
    "    ax.set_xticks(x)\n",
    "    ax.set_xticklabels(metrics_labels)\n",
    "    ax.legend()\n",
    "\n",
    "    plt.show()\n",
    "\n",
    "# Plotando os gráficos\n",
    "plot_metrics(['MSE', 'MAE'], [linear_mean_std, tree_mean_std, xgboost_mean_std, svr_mean_std, random_forest_mean_std], 'MSE e MAE por Modelo')\n",
    "plot_metrics(['MAPE'], [linear_mean_std, tree_mean_std, xgboost_mean_std, svr_mean_std, random_forest_mean_std], 'MAPE por Modelo')\n",
    "plot_metrics(['R2'], [linear_mean_std, tree_mean_std, xgboost_mean_std, svr_mean_std, random_forest_mean_std], 'R² por Modelo')\n",
    "\n",
    "# Exibindo as médias de cada modelo\n",
    "for model_name, model_mean_std in zip(\n",
    "    [\"Decision Tree Regressor\", \"Linear Regression\", \"XGBoost Regressor\", \"SVR\", \"Random Forest Regressor\"],\n",
    "    [tree_mean_std, linear_mean_std, xgboost_mean_std, svr_mean_std, random_forest_mean_std]\n",
    "):\n",
    "    print(f\"\\n{model_name} Metrics:\")\n",
    "    for metric in model_mean_std:\n",
    "        print(f\"Mean {metric}: {model_mean_std[metric][0]:.4f}\")"
   ]
  },
  {
   "cell_type": "markdown",
   "metadata": {},
   "source": [
    "# Conclusão\n",
    "\n",
    "Responder à pergunta: \"Você acredita que será possível entregar tudo que prometeu no documento da Proposta?\"\n"
   ]
  },
  {
   "cell_type": "markdown",
   "metadata": {},
   "source": [
    "Sim, por mais que esteja apenas no começo do projeto, já é possivel fazer algumas análises utilizando regressão linear e arvore de regressão como visto em aula, com o que já temos fica facil crial pipelines para os ajustes nos dados e também abre a possibilidade para random forests. Com o objetivo final de evitar overfitting e garantir também que seja possivel obter respostas e tomadas de decisões razoáveis em relação aos dados estabelecidos."
   ]
  }
 ],
 "metadata": {
  "kernelspec": {
   "display_name": "venv",
   "language": "python",
   "name": "python3"
  },
  "language_info": {
   "codemirror_mode": {
    "name": "ipython",
    "version": 3
   },
   "file_extension": ".py",
   "mimetype": "text/x-python",
   "name": "python",
   "nbconvert_exporter": "python",
   "pygments_lexer": "ipython3",
   "version": "3.12.4"
  }
 },
 "nbformat": 4,
 "nbformat_minor": 2
}
