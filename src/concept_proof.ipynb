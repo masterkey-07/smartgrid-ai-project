{
 "cells": [
  {
   "cell_type": "markdown",
   "metadata": {},
   "source": [
    "# Predição do Estado de uma Smart Grid"
   ]
  },
  {
   "cell_type": "markdown",
   "metadata": {},
   "source": [
    "## Bibliotecas"
   ]
  },
  {
   "cell_type": "code",
   "execution_count": 41,
   "metadata": {},
   "outputs": [],
   "source": [
    "# Biblioteca para coletar os dados da rede simulada\n",
    "from ucimlrepo import fetch_ucirepo \n",
    "\n",
    "# Bibliotecas para análise e manipulação dos dados\n",
    "import numpy as np\n",
    "import pandas as pd\n",
    "\n",
    "# Charts and Visualization\n",
    "from matplotlib import pyplot as plt\n",
    "\n",
    "# Machine Learning Libraries\n",
    "import xgboost\n",
    "from sklearn import linear_model\n",
    "from sklearn.svm import SVR\n",
    "from sklearn.model_selection import KFold\n",
    "from sklearn.tree import DecisionTreeRegressor\n",
    "from sklearn.metrics import mean_squared_error, mean_absolute_error"
   ]
  },
  {
   "cell_type": "markdown",
   "metadata": {},
   "source": [
    "# Domínio da Aplicação\n",
    "\n",
    "## Exploração da Base de Dados\n",
    "\n",
    "### Coletando os [dados simulados de estabilidade de uma rede elétrica](https://archive.ics.uci.edu/dataset/471/electrical+grid+stability+simulated+data)"
   ]
  },
  {
   "cell_type": "code",
   "execution_count": 28,
   "metadata": {},
   "outputs": [],
   "source": [
    "electrical_grid_stability_simulated_data = fetch_ucirepo(id=471).data\n",
    "\n",
    "features = electrical_grid_stability_simulated_data.features \n",
    "targets = electrical_grid_stability_simulated_data.targets\n",
    "\n",
    "data = pd.merge(features, targets, left_index=True, right_index=True, how='outer')"
   ]
  },
  {
   "cell_type": "markdown",
   "metadata": {},
   "source": [
    "### Explicando os Atributos\n",
    "\n",
    "- tau[x]: Tempo de reação do participante (valor real no intervalo [0.5, 10] segundos). \n",
    "    - tau1 - o valor para o produtor de eletricidade;\n",
    "- p[x]: Potência nominal consumida (negativa) ou produzida (positiva) (valor real). \n",
    "    - Para consumidores, no intervalo [-0.5, -2] segundos^-2;\n",
    "    - p1 = abs(p2 + p3 + p4);\n",
    "- g[x]: Coeficiente (gamma) proporcional à elasticidade de preço (valor real no intervalo [0.05, 1] segundos^-1). \n",
    "    - g1 - o valor para o produtor de eletricidade;\n",
    "- stab: A parte real máxima da raiz da equação característica (se positiva - o sistema é linearmente instável) (valor real).\n",
    "- stabf: A classificação de estabilidade do sistema (categórica: estável/instável).\n"
   ]
  },
  {
   "cell_type": "markdown",
   "metadata": {},
   "source": [
    "### Visualização os Dados"
   ]
  },
  {
   "cell_type": "code",
   "execution_count": 29,
   "metadata": {},
   "outputs": [
    {
     "data": {
      "text/html": [
       "<div>\n",
       "<style scoped>\n",
       "    .dataframe tbody tr th:only-of-type {\n",
       "        vertical-align: middle;\n",
       "    }\n",
       "\n",
       "    .dataframe tbody tr th {\n",
       "        vertical-align: top;\n",
       "    }\n",
       "\n",
       "    .dataframe thead th {\n",
       "        text-align: right;\n",
       "    }\n",
       "</style>\n",
       "<table border=\"1\" class=\"dataframe\">\n",
       "  <thead>\n",
       "    <tr style=\"text-align: right;\">\n",
       "      <th></th>\n",
       "      <th>tau1</th>\n",
       "      <th>tau2</th>\n",
       "      <th>tau3</th>\n",
       "      <th>tau4</th>\n",
       "      <th>p1</th>\n",
       "      <th>p2</th>\n",
       "      <th>p3</th>\n",
       "      <th>p4</th>\n",
       "      <th>g1</th>\n",
       "      <th>g2</th>\n",
       "      <th>g3</th>\n",
       "      <th>g4</th>\n",
       "      <th>stab</th>\n",
       "      <th>stabf</th>\n",
       "    </tr>\n",
       "  </thead>\n",
       "  <tbody>\n",
       "    <tr>\n",
       "      <th>0</th>\n",
       "      <td>2.959060</td>\n",
       "      <td>3.079885</td>\n",
       "      <td>8.381025</td>\n",
       "      <td>9.780754</td>\n",
       "      <td>3.763085</td>\n",
       "      <td>-0.782604</td>\n",
       "      <td>-1.257395</td>\n",
       "      <td>-1.723086</td>\n",
       "      <td>0.650456</td>\n",
       "      <td>0.859578</td>\n",
       "      <td>0.887445</td>\n",
       "      <td>0.958034</td>\n",
       "      <td>0.055347</td>\n",
       "      <td>unstable</td>\n",
       "    </tr>\n",
       "    <tr>\n",
       "      <th>1</th>\n",
       "      <td>9.304097</td>\n",
       "      <td>4.902524</td>\n",
       "      <td>3.047541</td>\n",
       "      <td>1.369357</td>\n",
       "      <td>5.067812</td>\n",
       "      <td>-1.940058</td>\n",
       "      <td>-1.872742</td>\n",
       "      <td>-1.255012</td>\n",
       "      <td>0.413441</td>\n",
       "      <td>0.862414</td>\n",
       "      <td>0.562139</td>\n",
       "      <td>0.781760</td>\n",
       "      <td>-0.005957</td>\n",
       "      <td>stable</td>\n",
       "    </tr>\n",
       "    <tr>\n",
       "      <th>2</th>\n",
       "      <td>8.971707</td>\n",
       "      <td>8.848428</td>\n",
       "      <td>3.046479</td>\n",
       "      <td>1.214518</td>\n",
       "      <td>3.405158</td>\n",
       "      <td>-1.207456</td>\n",
       "      <td>-1.277210</td>\n",
       "      <td>-0.920492</td>\n",
       "      <td>0.163041</td>\n",
       "      <td>0.766689</td>\n",
       "      <td>0.839444</td>\n",
       "      <td>0.109853</td>\n",
       "      <td>0.003471</td>\n",
       "      <td>unstable</td>\n",
       "    </tr>\n",
       "    <tr>\n",
       "      <th>3</th>\n",
       "      <td>0.716415</td>\n",
       "      <td>7.669600</td>\n",
       "      <td>4.486641</td>\n",
       "      <td>2.340563</td>\n",
       "      <td>3.963791</td>\n",
       "      <td>-1.027473</td>\n",
       "      <td>-1.938944</td>\n",
       "      <td>-0.997374</td>\n",
       "      <td>0.446209</td>\n",
       "      <td>0.976744</td>\n",
       "      <td>0.929381</td>\n",
       "      <td>0.362718</td>\n",
       "      <td>0.028871</td>\n",
       "      <td>unstable</td>\n",
       "    </tr>\n",
       "    <tr>\n",
       "      <th>4</th>\n",
       "      <td>3.134112</td>\n",
       "      <td>7.608772</td>\n",
       "      <td>4.943759</td>\n",
       "      <td>9.857573</td>\n",
       "      <td>3.525811</td>\n",
       "      <td>-1.125531</td>\n",
       "      <td>-1.845975</td>\n",
       "      <td>-0.554305</td>\n",
       "      <td>0.797110</td>\n",
       "      <td>0.455450</td>\n",
       "      <td>0.656947</td>\n",
       "      <td>0.820923</td>\n",
       "      <td>0.049860</td>\n",
       "      <td>unstable</td>\n",
       "    </tr>\n",
       "  </tbody>\n",
       "</table>\n",
       "</div>"
      ],
      "text/plain": [
       "       tau1      tau2      tau3      tau4        p1        p2        p3  \\\n",
       "0  2.959060  3.079885  8.381025  9.780754  3.763085 -0.782604 -1.257395   \n",
       "1  9.304097  4.902524  3.047541  1.369357  5.067812 -1.940058 -1.872742   \n",
       "2  8.971707  8.848428  3.046479  1.214518  3.405158 -1.207456 -1.277210   \n",
       "3  0.716415  7.669600  4.486641  2.340563  3.963791 -1.027473 -1.938944   \n",
       "4  3.134112  7.608772  4.943759  9.857573  3.525811 -1.125531 -1.845975   \n",
       "\n",
       "         p4        g1        g2        g3        g4      stab     stabf  \n",
       "0 -1.723086  0.650456  0.859578  0.887445  0.958034  0.055347  unstable  \n",
       "1 -1.255012  0.413441  0.862414  0.562139  0.781760 -0.005957    stable  \n",
       "2 -0.920492  0.163041  0.766689  0.839444  0.109853  0.003471  unstable  \n",
       "3 -0.997374  0.446209  0.976744  0.929381  0.362718  0.028871  unstable  \n",
       "4 -0.554305  0.797110  0.455450  0.656947  0.820923  0.049860  unstable  "
      ]
     },
     "execution_count": 29,
     "metadata": {},
     "output_type": "execute_result"
    }
   ],
   "source": [
    "data.head()"
   ]
  },
  {
   "cell_type": "markdown",
   "metadata": {},
   "source": [
    "# Pré-Processamento dos Dados\n",
    "\n",
    "### Eliminação do dado discreto, `stabf`\n",
    "\n",
    "Com o objetivo de prever o próximo estado da rede, a partir do valor contínuo `stab`, temos que eliminar o valor `stabf` já que depende de `stab`."
   ]
  },
  {
   "cell_type": "code",
   "execution_count": 30,
   "metadata": {},
   "outputs": [],
   "source": [
    "data.drop(columns=['stabf'], inplace=True)"
   ]
  },
  {
   "cell_type": "markdown",
   "metadata": {},
   "source": [
    "### Criação de Dados\n",
    "\n",
    "Criar mais dados a partir das médias, para verificar novas correlações"
   ]
  },
  {
   "cell_type": "code",
   "execution_count": 31,
   "metadata": {},
   "outputs": [],
   "source": [
    "# data['p_std'] = (data['p1'] + data['p2'] + data['p3'] + data['p4']) / 4\n",
    "# data['g_std'] = (data['g1'] + data['g2'] + data['g3'] + data['g4']) / 4"
   ]
  },
  {
   "cell_type": "markdown",
   "metadata": {},
   "source": [
    "### Análise das Correlações"
   ]
  },
  {
   "cell_type": "code",
   "execution_count": 32,
   "metadata": {},
   "outputs": [
    {
     "name": "stdout",
     "output_type": "stream",
     "text": [
      "Maiores Correlações\n",
      "    first_column second_column  correlation\n",
      "142           g3          stab     0.308235\n",
      "129           g2          stab     0.293601\n",
      "25          tau2          stab     0.290975\n",
      "116           g1          stab     0.282774\n",
      "38          tau3          stab     0.280700\n",
      "155           g4          stab     0.279214\n",
      "51          tau4          stab     0.278576\n",
      "12          tau1          stab     0.275761\n",
      "4           tau1            p1     0.027183\n",
      "76            p2            g4     0.019817\n",
      "\n",
      "\n",
      "Menores Correlações\n",
      "    first_column second_column  correlation\n",
      "58            p1            p3    -0.584554\n",
      "59            p1            p4    -0.579239\n",
      "57            p1            p2    -0.573157\n",
      "103           p4          stab    -0.020786\n",
      "74            p2            g2    -0.018032\n",
      "33          tau3            p4    -0.017531\n",
      "3           tau1          tau4    -0.017265\n",
      "6           tau1            p3    -0.015924\n",
      "7           tau1            p4    -0.015807\n",
      "5           tau1            p2    -0.015485\n"
     ]
    }
   ],
   "source": [
    "correlation_matrix = data.corr()\n",
    "\n",
    "correlation_pairs = correlation_matrix.unstack().reset_index()\n",
    "correlation_pairs.columns = ['first_column', 'second_column', 'correlation']\n",
    "\n",
    "# Remover duplicatas e auto-correlacoes\n",
    "correlation_pairs = correlation_pairs[correlation_pairs['first_column'] != correlation_pairs['second_column']]\n",
    "correlation_pairs = correlation_pairs.drop_duplicates(subset=['correlation'])\n",
    "\n",
    "# Ordenar pelo valor absoluto da correlação\n",
    "corr_max = correlation_pairs.sort_values(by='correlation', ascending=False)\n",
    "corr_min = correlation_pairs.sort_values(by='correlation')\n",
    "\n",
    "# Selecionar os maiores valores de correlação\n",
    "print(\"Maiores Correlações\")\n",
    "print(corr_max.head(10))\n",
    "print('\\n')\n",
    "print(\"Menores Correlações\")\n",
    "print(corr_min.head(10))"
   ]
  },
  {
   "cell_type": "markdown",
   "metadata": {},
   "source": [
    "## Limpeza os dados"
   ]
  },
  {
   "cell_type": "markdown",
   "metadata": {},
   "source": [
    "Temos algumas providencias a serem tomadas antes de excluir ou tomar qualquer outra atitude para correlações baixas\n",
    "\n",
    "Com os dados acima temos que os g tem grande impacto no stab e o stab tem muito impacto no stabf que é o objetivo final\n",
    "Portanto o mais importante agora é ver o que fazer com os p"
   ]
  },
  {
   "cell_type": "code",
   "execution_count": 33,
   "metadata": {},
   "outputs": [],
   "source": [
    "# data.drop(columns=['p1', 'p2', 'p3', 'p4', 'p_std', 'g_std'], inplace=True)"
   ]
  },
  {
   "cell_type": "markdown",
   "metadata": {},
   "source": [
    "# Reconhecimento de Padrões e Aprendizados\n",
    "\n",
    "## Definição de Métodos e Classes de Apoio"
   ]
  },
  {
   "cell_type": "code",
   "execution_count": 34,
   "metadata": {},
   "outputs": [],
   "source": [
    "def create_error_structure():\n",
    "    return {\n",
    "        \"mse\": [],\n",
    "        \"mae\": [],\n",
    "        \"mape\": []\n",
    "}\n",
    "\n",
    "class Fitter:\n",
    "    def __init__(self, x_train, y_train, x_test, y_test) -> None:\n",
    "        self.__x_train = x_train\n",
    "        self.__y_train = y_train\n",
    "        self.__x_test = x_test\n",
    "        self.__y_test = y_test\n",
    "\n",
    "    def fit_model_and_measure(self, model, data):\n",
    "        model.fit(self.__x_train, self.__y_train)\n",
    "        \n",
    "        pred = model.predict(self.__x_test)\n",
    "\n",
    "        data['mse'].append(mean_squared_error(self.__y_test, pred))\n",
    "        data['mape'].append(np.mean(np.abs((self.__y_test - pred) / self.__y_test)) * 100)\n",
    "        data['mae'].append(mean_absolute_error(self.__y_test, pred))"
   ]
  },
  {
   "cell_type": "markdown",
   "metadata": {},
   "source": [
    "## Treinamento e Validação dos Modelos"
   ]
  },
  {
   "cell_type": "code",
   "execution_count": 45,
   "metadata": {},
   "outputs": [],
   "source": [
    "five_folds = KFold(n_splits=5, random_state=0, shuffle=True)\n",
    "\n",
    "liner_regressor_data = create_error_structure()\n",
    "tree_regressor_data = create_error_structure()\n",
    "xgboost_regressor_data = create_error_structure()\n",
    "svr_data = create_error_structure()\n",
    "\n",
    "STAB_COLUMN_INDEX = list(data.columns).index('stab')\n",
    "\n",
    "for index, (train_index, test_index) in enumerate(five_folds.split(data)):\n",
    "    y_train = data.values[train_index][:, STAB_COLUMN_INDEX]\n",
    "    x_train = data.values[train_index]\n",
    "    x_train = np.delete(x_train, STAB_COLUMN_INDEX, 1)\n",
    "\n",
    "    y_test = data.values[test_index][:, STAB_COLUMN_INDEX]\n",
    "    x_test = data.values[test_index]\n",
    "    x_test = np.delete(x_test, STAB_COLUMN_INDEX, 1)\n",
    "\n",
    "    fitter = Fitter(\n",
    "        x_train=x_train,\n",
    "        x_test=x_test,\n",
    "        y_train=y_train,\n",
    "        y_test=y_test,\n",
    "    )\n",
    "    \n",
    "    lasso = linear_model.Lasso(alpha=0.1)\n",
    "\n",
    "    fitter.fit_model_and_measure(lasso, data=liner_regressor_data)\n",
    "\n",
    "    tree = DecisionTreeRegressor(max_depth=5, splitter='random', min_samples_leaf=5)\n",
    "\n",
    "    fitter.fit_model_and_measure(tree, tree_regressor_data)\n",
    "\n",
    "    xgb_regressor = xgboost.sklearn.XGBRegressor()\n",
    "\n",
    "    fitter.fit_model_and_measure(xgb_regressor, xgboost_regressor_data)\n",
    "\n",
    "    svr = SVR()\n",
    "\n",
    "    fitter.fit_model_and_measure(svr, svr_data)\n"
   ]
  },
  {
   "cell_type": "markdown",
   "metadata": {},
   "source": [
    "# Pós-Processamento e Conclusão\n",
    "\n",
    "## Definindo funções de apoio"
   ]
  },
  {
   "cell_type": "code",
   "execution_count": 46,
   "metadata": {},
   "outputs": [],
   "source": [
    "def create_metrics(error_structure):\n",
    "    metrics = {'MSE': error_structure['mse'], 'MAE': error_structure['mae'], 'MAPE': error_structure['mape']}\n",
    "\n",
    "    print(metrics)\n",
    "\n",
    "    mean_std = {metric: (np.mean(scores), np.std(scores)) for metric, scores in metrics.items()}\n",
    "\n",
    "    return mean_std"
   ]
  },
  {
   "cell_type": "code",
   "execution_count": 48,
   "metadata": {},
   "outputs": [
    {
     "name": "stdout",
     "output_type": "stream",
     "text": [
      "{'MSE': [np.float64(0.001376129491866354), np.float64(0.0014067259016848075), np.float64(0.0013803387067353183), np.float64(0.0012851124010548512), np.float64(0.0013674506030640176)], 'MAE': [np.float64(0.0314525400415256), np.float64(0.03198506877534543), np.float64(0.03132942398311239), np.float64(0.030269516710787623), np.float64(0.03136529555890624)], 'MAPE': [np.float64(3266.1563113743773), np.float64(182.71237185576038), np.float64(240.14662651547698), np.float64(202.51763363497966), np.float64(766.0148305113072)]}\n",
      "{'MSE': [np.float64(0.0007567490519939965), np.float64(0.0008771122805729789), np.float64(0.0008319389043886489), np.float64(0.0007483883222149701), np.float64(0.0007258985706601889)], 'MAE': [np.float64(0.022229970689169157), np.float64(0.02410513283008597), np.float64(0.0234690924513918), np.float64(0.022172947875280093), np.float64(0.021803925798286963)], 'MAPE': [np.float64(8128.72210258007), np.float64(183.24660608489813), np.float64(273.0333455181784), np.float64(208.9592163135366), np.float64(619.89733480252)]}\n",
      "{'MSE': [np.float64(8.755469706757857e-05), np.float64(8.744381685774358e-05), np.float64(8.5251219202027e-05), np.float64(9.437493581068651e-05), np.float64(9.008669772083206e-05)], 'MAE': [np.float64(0.007066364749597745), np.float64(0.007061202136477776), np.float64(0.006948283437246835), np.float64(0.0072099719050352515), np.float64(0.00717330949712752)], 'MAPE': [np.float64(490.5042129708641), np.float64(54.928002054214396), np.float64(109.67086195386797), np.float64(101.45534093841056), np.float64(252.49551416633346)]}\n",
      "{'MSE': [np.float64(0.001379115679423986), np.float64(0.0014110647409104687), np.float64(0.0013846362545989481), np.float64(0.0012873035702908311), np.float64(0.0013674089333427827)], 'MAE': [np.float64(0.03150686863028327), np.float64(0.032059842229761465), np.float64(0.031341918157349755), np.float64(0.030315526808592622), np.float64(0.03142744552611794)], 'MAPE': [np.float64(2998.2908689892924), np.float64(174.89996824337217), np.float64(253.92843310368335), np.float64(191.08287736137623), np.float64(687.8520691083546)]}\n"
     ]
    },
    {
     "data": {
      "image/png": "[encoded data removed]",
      "text/plain": [
       "<Figure size 640x480 with 1 Axes>"
      ]
     },
     "metadata": {},
     "output_type": "display_data"
    },
    {
     "name": "stdout",
     "output_type": "stream",
     "text": [
      "mean MSE with decision tree regressor 0.0007880174259661567\n",
      "mean MAE with decision tree regressor 0.0227562139288428\n",
      "mean MAPE with decision tree regressor 1882.7717210598407\n",
      "\n",
      "\n",
      "mean MSE with linear regression 0.00136315142088107\n",
      "mean MAE with linear regression 0.03128036901393546\n",
      "mean MAPE with linear regression 931.5095547783803\n",
      "\n",
      "\n",
      "mean MSE with xgboost regressor 8.894227333177355e-05\n",
      "mean MAE with xgboost regressor 0.0070918263450970255\n",
      "mean MAPE with xgboost regressor 201.8107864167381\n",
      "mean MSE with xgboost regressor 0.0013659058357134032\n",
      "mean MAE with xgboost regressor 0.03133032027042101\n",
      "mean MAPE with xgboost regressor 861.2108433612159\n"
     ]
    }
   ],
   "source": [
    "# Regressão Linear\n",
    "\n",
    "linear_mean_std = create_metrics(liner_regressor_data)\n",
    "tree_mean_std = create_metrics(tree_regressor_data)\n",
    "xgboost_mean_std = create_metrics(xgboost_regressor_data)\n",
    "svr_mean_std = create_metrics(svr_data)\n",
    "\n",
    "# Plotando os gráficos\n",
    "\n",
    "metrics_labels = ['MSE', 'MAE']\n",
    "\n",
    "width = 0.3\n",
    "x = np.arange(len(metrics_labels))\n",
    "\n",
    "fig, ax = plt.subplots()\n",
    "\n",
    "rects1 = ax.bar(x - (width * 2)/3, [linear_mean_std[metric][0] for metric in metrics_labels], width/2, label='Regressão Linear', yerr=[linear_mean_std[metric][1] for metric in metrics_labels])\n",
    "rects2 = ax.bar(x, [tree_mean_std[metric][0] for metric in metrics_labels], width/2, label='Árvore de Decisão', yerr=[tree_mean_std[metric][1] for metric in metrics_labels])\n",
    "rects3 = ax.bar(x + (width * 2)/3, [xgboost_mean_std[metric][0] for metric in metrics_labels], width/2, label='XGBoost', yerr=[xgboost_mean_std[metric][1] for metric in metrics_labels])\n",
    "\n",
    "ax.set_ylabel('Scores')\n",
    "ax.set_title('Scores x Metric and Models')\n",
    "ax.set_xticks(x)\n",
    "ax.set_xticklabels(metrics_labels)\n",
    "ax.legend()\n",
    "\n",
    "\n",
    "plt.show()\n",
    "\n",
    "for index in tree_mean_std:\n",
    "  print(f'mean {index} with decision tree regressor {tree_mean_std[index][0]}')\n",
    "\n",
    "print(\"\\n\")\n",
    "\n",
    "for index in linear_mean_std:\n",
    "  print(f'mean {index} with linear regression {linear_mean_std[index][0]}')\n",
    "\n",
    "print(\"\\n\")\n",
    "\n",
    "for index in xgboost_mean_std:\n",
    "  print(f'mean {index} with xgboost regressor {xgboost_mean_std[index][0]}')\n",
    "\n",
    "print(\"\\n\")\n",
    "\n",
    "for index in svr_mean_std:\n",
    "  print(f'mean {index} with svr {svr_mean_std[index][0]}')"
   ]
  },
  {
   "cell_type": "markdown",
   "metadata": {},
   "source": [
    "# Conclusão\n",
    "\n",
    "Responder à pergunta: \"Você acredita que será possível entregar tudo que prometeu no documento da Proposta?\"\n"
   ]
  },
  {
   "cell_type": "markdown",
   "metadata": {},
   "source": [
    "Sim, por mais que esteja apenas no começo do projeto, já é possivel fazer algumas análises utilizando regressão linear e arvore de regressão como visto em aula, com o que já temos fica facil crial pipelines para os ajustes nos dados e também abre a possibilidade para random forests. Com o objetivo final de evitar overfitting e garantir também que seja possivel obter respostas e tomadas de decisões razoáveis em relação aos dados estabelecidos."
   ]
  }
 ],
 "metadata": {
  "kernelspec": {
   "display_name": "venv",
   "language": "python",
   "name": "python3"
  },
  "language_info": {
   "codemirror_mode": {
    "name": "ipython",
    "version": 3
   },
   "file_extension": ".py",
   "mimetype": "text/x-python",
   "name": "python",
   "nbconvert_exporter": "python",
   "pygments_lexer": "ipython3",
   "version": "3.12.3"
  }
 },
 "nbformat": 4,
 "nbformat_minor": 2
}
